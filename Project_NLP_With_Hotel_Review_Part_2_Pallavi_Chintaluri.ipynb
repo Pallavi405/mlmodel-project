{
 "cells": [
  {
   "cell_type": "markdown",
   "id": "ddcacbf1",
   "metadata": {},
   "source": [
    "## NLP With Hotel Review Part 2\n",
    "\n",
    "### Pallavi Chintaluri"
   ]
  },
  {
   "cell_type": "code",
   "execution_count": 1,
   "id": "7bc898f4",
   "metadata": {},
   "outputs": [],
   "source": [
    "# Import base packages. Other specific packages will be imported at the time of modelling\n",
    "\n",
    "import numpy as np\n",
    "import pandas as pd\n",
    "import matplotlib.pyplot as plt\n",
    "%matplotlib inline\n",
    "\n",
    "# Ignore warnings\n",
    "\n",
    "import warnings\n",
    "warnings.filterwarnings(\"ignore\")"
   ]
  },
  {
   "cell_type": "code",
   "execution_count": 2,
   "id": "586e6b4c",
   "metadata": {},
   "outputs": [],
   "source": [
    "# Utilise helper functions to enhance visualizations\n",
    "\n",
    "def PlotBoundaries(model, X, Y, dot_size=20, figsize=(10,7)) :\n",
    "    '''\n",
    "    Helper function that plots the decision boundaries of a model and data (X,Y)\n",
    "    code modified from: https://scikit-learn.org/stable/auto_examples/neighbors/plot_classification.html\n",
    "    '''\n",
    "    \n",
    "    x_min, x_max = X[:, 0].min() - 1, X[:, 0].max() + 1\n",
    "    y_min, y_max = X[:, 1].min() - 1,X[:, 1].max() + 1\n",
    "    xx, yy = np.meshgrid(np.arange(x_min, x_max, 0.01), np.arange(y_min, y_max, 0.01))\n",
    "\n",
    "    Z = model.predict(np.c_[xx.ravel(), yy.ravel()])\n",
    "    Z = Z.reshape(xx.shape)\n",
    "\n",
    "    plt.figure(figsize=figsize)\n",
    "    plt.contourf(xx, yy, Z, alpha=0.4)\n",
    "\n",
    "    #Plot\n",
    "    plt.scatter(X[:, 0], X[:, 1], c=Y, s=dot_size, edgecolor='k')\n",
    "    plt.show()"
   ]
  },
  {
   "cell_type": "code",
   "execution_count": 10,
   "id": "e42ef70f",
   "metadata": {},
   "outputs": [],
   "source": [
    "# Import data \n",
    "\n",
    "clean_test_df = pd.read_csv(r'C:\\Users\\palla\\clean_data\\clean_test_dataframe.csv')\n",
    "clean_train_df = pd.read_csv(r'C:\\Users\\palla\\clean_data\\clean_train_dataframe.csv')\n",
    "\n",
    "# Seperate X and y variables for the two datasets\n",
    "\n",
    "# The training data is called remain data to facilitate train-validate split for later questions\n",
    "X_remain = clean_train_df.drop(columns = 'rating')\n",
    "y_remain = clean_train_df['rating']\n",
    "\n",
    "X_test = clean_test_df.drop(columns = 'rating')\n",
    "y_test = clean_test_df['rating']\n",
    "\n",
    "# Create train and validate sets\n",
    "from sklearn.model_selection import train_test_split\n",
    "\n",
    "X_train, X_validate, y_train, y_validate = \\\n",
    "    train_test_split(X_remain, y_remain, test_size = 0.3,\n",
    "                     random_state=1)\n",
    "\n",
    "# Create a small sample set as well\n",
    "X_validate, X_sample, y_validate, y_sample = \\\n",
    "    train_test_split(X_validate, y_validate, test_size = 0.5)"
   ]
  },
  {
   "cell_type": "code",
   "execution_count": 12,
   "id": "424629a7",
   "metadata": {},
   "outputs": [
    {
     "name": "stdout",
     "output_type": "stream",
     "text": [
      "Shape of test set: (4267, 2743)\n",
      "Shape of validation set: (1920, 2743)\n",
      "Shape of train set: (8958, 2743)\n",
      "Shape of train set: (1920, 2743)\n"
     ]
    }
   ],
   "source": [
    "# Look at the shapes of all our datasets\n",
    "\n",
    "print(f'Shape of test set: {X_test.shape}')\n",
    "print(f'Shape of validation set: {X_validate.shape}')\n",
    "print(f'Shape of train set: {X_train.shape}')\n",
    "print(f'Shape of train set: {X_sample.shape}')"
   ]
  },
  {
   "cell_type": "markdown",
   "id": "c5a3b712",
   "metadata": {},
   "source": [
    "#### Q1. Employ a linear classifier on this dataset:\n",
    "\n",
    " - Fit a logisitic regression model to this data with the solver set to lbfgs. What is the accuracy score on the test set?\n",
    " - What are the 20 words most predictive of a good review (from the positive review column)? What are the 20 words most predictive with a bad review (from the negative review column)? Use the regression coefficients to answer this question\n",
    " - Reduce the dimensionality of the dataset using PCA, what is the relationship between the number of dimensions and run-time for a logistic regression?\n",
    " - List one advantage and one disadvantage of dimensionality reduction"
   ]
  },
  {
   "cell_type": "code",
   "execution_count": 21,
   "id": "c0ffc8f3",
   "metadata": {},
   "outputs": [],
   "source": [
    "# Import the packages for linear classification models\n",
    "\n",
    "from sklearn.feature_extraction.text import CountVectorizer\n",
    "from sklearn.linear_model import LogisticRegression\n",
    "from sklearn.preprocessing import StandardScaler\n",
    "from sklearn.decomposition import PCA"
   ]
  },
  {
   "cell_type": "code",
   "execution_count": 17,
   "id": "43298658",
   "metadata": {},
   "outputs": [
    {
     "name": "stdout",
     "output_type": "stream",
     "text": [
      "(12798, 2743)\n",
      "(2743, 2801)\n"
     ]
    }
   ],
   "source": [
    "# Use bagofwords to remove common English words from the train and test sets. \n",
    "# In this case we consider our original remain and test sets prior to creating validate and sample sets.\n",
    "\n",
    "bagofwords = CountVectorizer(stop_words=\"english\")\n",
    "bagofwords.fit(X_remain)\n",
    "\n",
    "X_remain_transformed = bagofwords.transform(X_remain) \n",
    "X_test_transformed = bagofwords.transform(X_test) \n",
    "\n",
    "# We can see how the dimensions have changed\n",
    "print(X_remain.shape)\n",
    "print(X_remain_transformed.shape)"
   ]
  },
  {
   "cell_type": "markdown",
   "id": "d1f73fea",
   "metadata": {},
   "source": [
    "1a. Fit a logisitic regression model to this data with the solver set to lbfgs. What is the accuracy score on the test set?"
   ]
  },
  {
   "cell_type": "code",
   "execution_count": 19,
   "id": "a029b87a",
   "metadata": {},
   "outputs": [
    {
     "name": "stdout",
     "output_type": "stream",
     "text": [
      "Train score: 0.7225347710579778\n",
      "Test score: 0.7194750410124209\n"
     ]
    }
   ],
   "source": [
    "# Fitting a model and setting the solver to lbfgs\n",
    "logreg = LogisticRegression(solver = 'lbfgs', C = 0.1) #Define the model\n",
    "logreg.fit(X_remain, y_remain) # Fit to remain dataset\n",
    "\n",
    "# Training and test accuracy scores\n",
    "print(f\"Train score: {logreg.score(X_remain, y_remain)}\") \n",
    "print(f\"Test score: {logreg.score(X_test, y_test)}\")"
   ]
  },
  {
   "cell_type": "markdown",
   "id": "745b63fc",
   "metadata": {},
   "source": [
    "We can see from the results above that our training data in this case has an accuracy score of **~72.3%** and the test data has an accuracy score of **~72%**."
   ]
  },
  {
   "cell_type": "markdown",
   "id": "25025bd0",
   "metadata": {},
   "source": [
    "1b. What are the 20 words most predictive of a good review (from the positive review column)? What are the 20 words most predictive with a bad review (from the negative review column)? Use the regression coefficients to answer this question"
   ]
  },
  {
   "cell_type": "markdown",
   "id": "10c956d2",
   "metadata": {},
   "source": [
    "1c. Reduce the dimensionality of the dataset using PCA, what is the relationship between the number of dimensions and run-time for a logistic regression?"
   ]
  },
  {
   "cell_type": "code",
   "execution_count": 23,
   "id": "b217701e",
   "metadata": {},
   "outputs": [],
   "source": [
    "# Scale the dataset prior to reducing dimensions\n",
    "\n",
    "scaler = StandardScaler() # Define the scaler\n",
    "scaler.fit(X_remain) # Fit the scaler to the remain dataset\n",
    "X_remain = scaler.transform(X_remain)  \n",
    "X_test = scaler.transform(X_test)"
   ]
  },
  {
   "cell_type": "code",
   "execution_count": 24,
   "id": "28a81026",
   "metadata": {},
   "outputs": [],
   "source": [
    "# Lets say we want to keep 90% of the variance\n",
    "my_PCA = PCA(n_components = 0.9) # Define model\n",
    "my_PCA.fit(X_remain) # Fit the remain dataset\n",
    "\n",
    "# Transform train and test\n",
    "X_remain_PCA = my_PCA.transform(X_remain)\n",
    "X_test_PCA = my_PCA.transform(X_test)"
   ]
  },
  {
   "cell_type": "code",
   "execution_count": 25,
   "id": "417f3695",
   "metadata": {},
   "outputs": [
    {
     "name": "stdout",
     "output_type": "stream",
     "text": [
      "Original: (12798, 2743)\n",
      "PCA Transformed: (12798, 1891)\n"
     ]
    }
   ],
   "source": [
    "print(f'Original: {X_remain.shape}')\n",
    "print(f'PCA Transformed: {X_remain_PCA.shape}')"
   ]
  },
  {
   "cell_type": "markdown",
   "id": "2c80d15c",
   "metadata": {},
   "source": [
    "We can see from this that the the dimensions have been reduced by around 850. Let us look at the impact on run time and accuracy of the models."
   ]
  },
  {
   "cell_type": "code",
   "execution_count": 26,
   "id": "1499890a",
   "metadata": {},
   "outputs": [
    {
     "name": "stdout",
     "output_type": "stream",
     "text": [
      "Train Score: 0.8546647913736521\n",
      "Test Score: 0.7654089524255917\n"
     ]
    }
   ],
   "source": [
    "# Do the same but fit on the PCA transformed data\n",
    "my_logreg_PCA = LogisticRegression()\n",
    "\n",
    "# Fitting to PCA data\n",
    "my_logreg_PCA.fit(X_remain_PCA,y_remain)\n",
    "\n",
    "# Scoring on PCA train and test sets\n",
    "print(f'Train Score: {my_logreg_PCA.score(X_remain_PCA, y_remain)}')\n",
    "print(f'Test Score: {my_logreg_PCA.score(X_test_PCA, y_test)}')"
   ]
  },
  {
   "cell_type": "markdown",
   "id": "ab4ba2e6",
   "metadata": {},
   "source": [
    "We can see our accuracy scores have increased. The train set here has an accuracy of **~85.5%** and the test set has an accuracy score of **76.5%**."
   ]
  },
  {
   "cell_type": "code",
   "execution_count": 27,
   "id": "e29e87ae",
   "metadata": {},
   "outputs": [
    {
     "name": "stdout",
     "output_type": "stream",
     "text": [
      "3.69 s ± 235 ms per loop (mean ± std. dev. of 7 runs, 1 loop each)\n"
     ]
    }
   ],
   "source": [
    "%%timeit\n",
    "logreg.fit(X_remain, y_remain)"
   ]
  },
  {
   "cell_type": "code",
   "execution_count": 28,
   "id": "19fae15b",
   "metadata": {},
   "outputs": [
    {
     "name": "stdout",
     "output_type": "stream",
     "text": [
      "2.23 s ± 140 ms per loop (mean ± std. dev. of 7 runs, 1 loop each)\n"
     ]
    }
   ],
   "source": [
    "%%timeit\n",
    "my_logreg_PCA.fit(X_remain_PCA,y_remain)"
   ]
  },
  {
   "cell_type": "markdown",
   "id": "bc3ead8e",
   "metadata": {},
   "source": [
    "We can see right away that the run time of the model with reduced dimensions is lower than the fulldataset. \n",
    "\n",
    "1d. List one advantage and one disadvantage of dimensionality reduction.\n",
    "\n",
    "*Advantage:* Increased **computational efficiency** and decrease in resources. \n",
    "\n",
    "*Disadvantage:* However, the disadvantage of this approach is **loss of data**. We would lose much of the original dataset, but with PCA, elements of the original features are retained so it is preffered to simply dropping observations."
   ]
  },
  {
   "cell_type": "markdown",
   "id": "d5392b37",
   "metadata": {},
   "source": [
    "#### Q2. Employ a K-Nearest Neighbour classifier on this dataset:\n",
    "\n",
    " - Fit a KNN model to this data. What is the accuracy score on the test set?\n",
    " - KNN is a computationally expensive model. Reduce the number of observations (data points) in the dataset. What is the relationship between the number of observations and run-time for KNN?\n",
    " - List one advantage and one disadvantage of reducing the number of observations.\n",
    " - Use the dataset to find an optimal value for K in the KNN algorithm. You will need to split your dataset into train and validation sets.\n",
    " - What is the issue with splitting the data into train and validation sets after performing vectorization?"
   ]
  },
  {
   "cell_type": "code",
   "execution_count": 29,
   "id": "6d141c5a",
   "metadata": {},
   "outputs": [],
   "source": [
    "# Import packages for KNN models\n",
    "\n",
    "from sklearn.neighbors import KNeighborsClassifier"
   ]
  },
  {
   "cell_type": "markdown",
   "id": "e9127533",
   "metadata": {},
   "source": [
    "2a. Fit a KNN model to this data. What is the accuracy score on the test set?"
   ]
  },
  {
   "cell_type": "code",
   "execution_count": 31,
   "id": "60fb1e5e",
   "metadata": {},
   "outputs": [
    {
     "name": "stdout",
     "output_type": "stream",
     "text": [
      "Train Accuracy: 75.12%\n",
      "Test Accuracy: 63.67%\n"
     ]
    }
   ],
   "source": [
    "# 1. Fitting a KNN model to the remain dataset. Evaluate the model's accuracy.\n",
    "\n",
    "KNN_model = KNeighborsClassifier() # Define the model\n",
    "KNN_model.fit(X_remain, y_remain) # Fit to data\n",
    "\n",
    "print(f\"Train Accuracy: {round(KNN_model.score(X_remain, y_remain)*100, 2)}%\")\n",
    "print(f\"Test Accuracy: {round(KNN_model.score(X_test, y_test)*100, 2)}%\")"
   ]
  },
  {
   "cell_type": "markdown",
   "id": "c6ebc41c",
   "metadata": {},
   "source": [
    "We can see the accuracy on the train dataset for KNN models is **75.12%** and the accuracy of the test set is much lower at **63.67%**."
   ]
  },
  {
   "cell_type": "markdown",
   "id": "6b6f702d",
   "metadata": {},
   "source": [
    "2b. KNN is a computationally expensive model. Reduce the number of observations (data points) in the dataset. What is the relationship between the number of observations and run-time for KNN?\n",
    "\n",
    "For this case, we will use the sample dataset created at the beginning."
   ]
  },
  {
   "cell_type": "code",
   "execution_count": 42,
   "id": "0245d763",
   "metadata": {},
   "outputs": [
    {
     "name": "stdout",
     "output_type": "stream",
     "text": [
      "Train Accuracy: 75.37%\n",
      "Test Accuracy: 63.14%\n"
     ]
    }
   ],
   "source": [
    "# Scale the dataset prior to reducing dimensions\n",
    "\n",
    "scaler = StandardScaler() # Define the scaler\n",
    "scaler.fit(X_train) # Fit the scaler to the remain dataset\n",
    "X_train = scaler.transform(X_train)  \n",
    "\n",
    "KNN_model = KNeighborsClassifier() # Define the model\n",
    "KNN_model.fit(X_train, y_train) # Fit to data\n",
    "\n",
    "print(f\"Train Accuracy: {round(KNN_model.score(X_train, y_train)*100, 2)}%\")\n",
    "print(f\"Test Accuracy: {round(KNN_model.score(X_test, y_test)*100, 2)}%\")"
   ]
  },
  {
   "cell_type": "code",
   "execution_count": 39,
   "id": "6101979a",
   "metadata": {},
   "outputs": [
    {
     "name": "stdout",
     "output_type": "stream",
     "text": [
      "35.6 ms ± 1.09 ms per loop (mean ± std. dev. of 7 runs, 10 loops each)\n"
     ]
    }
   ],
   "source": [
    "%%timeit\n",
    "KNN_model.fit(X_remain, y_remain)"
   ]
  },
  {
   "cell_type": "code",
   "execution_count": 43,
   "id": "c710ae35",
   "metadata": {},
   "outputs": [
    {
     "name": "stdout",
     "output_type": "stream",
     "text": [
      "28.1 ms ± 1.14 ms per loop (mean ± std. dev. of 7 runs, 10 loops each)\n"
     ]
    }
   ],
   "source": [
    "%%timeit\n",
    "KNN_model.fit(X_train, y_train)"
   ]
  },
  {
   "cell_type": "markdown",
   "id": "792e4d0a",
   "metadata": {},
   "source": [
    "We can see the computation time is decreased from simply dropping observations, while accuracy with the test set remains the same."
   ]
  },
  {
   "cell_type": "markdown",
   "id": "fc797d60",
   "metadata": {},
   "source": [
    "2c. List one advantage and one disadvantage of reducing the number of observations.\n",
    "\n",
    "*Advantage:* An advantage of reducing the number of observations is usually **reduction in computational resources**. \n",
    "\n",
    "*Disadvantage:* However, unlike PCA we don't retain any elements of the original features. We simply **lose datapoints** for the model to learn from and understand. "
   ]
  },
  {
   "cell_type": "markdown",
   "id": "72d691e5",
   "metadata": {},
   "source": [
    "2d. Use the dataset to find an optimal value for K in the KNN algorithm. You will need to split your dataset into train and validation sets."
   ]
  },
  {
   "cell_type": "code",
   "execution_count": 56,
   "id": "49d93d2d",
   "metadata": {},
   "outputs": [],
   "source": [
    "k_values = list(range(1, 80, 2))\n",
    "train_scores = []\n",
    "validation_scores = []\n",
    "\n",
    "scaler = StandardScaler()\n",
    "scaler.fit(X_train)\n",
    "\n",
    "X_train = scaler.transform(X_train)\n",
    "X_validation = scaler.transform(X_validate)\n",
    "\n",
    "for k in k_values:  \n",
    "    knn = KNeighborsClassifier(n_neighbors=k)\n",
    "    knn.fit(X_train, y_train)\n",
    "    \n",
    "    # Evaluate\n",
    "    train_scores.append(knn.score(X_train, y_train))\n",
    "    validation_scores.append(knn.score(X_validate, y_validate))\n",
    " "
   ]
  },
  {
   "cell_type": "code",
   "execution_count": 57,
   "id": "1ca8044a",
   "metadata": {},
   "outputs": [
    {
     "data": {
      "image/png": "[encoded data removed]",
      "text/plain": [
       "<Figure size 720x504 with 1 Axes>"
      ]
     },
     "metadata": {
      "needs_background": "light"
     },
     "output_type": "display_data"
    }
   ],
   "source": [
    "plt.figure(figsize=(10, 7))\n",
    "plt.plot(k_values, train_scores, c='blue', label='train')\n",
    "plt.plot(k_values, validation_scores, c='red', label='validation')\n",
    "plt.xlabel('n neighbors')\n",
    "plt.ylabel('accuracy')\n",
    "plt.title(\"KNN number of neighbors parameter tuning\")\n",
    "plt.legend()\n",
    "plt.show()"
   ]
  },
  {
   "cell_type": "markdown",
   "id": "b6ace204",
   "metadata": {},
   "source": [
    "It appears that the best value for K is around 53 where the gap between the train and test datasets is lowest. However, the accuracy score is not very high."
   ]
  },
  {
   "cell_type": "code",
   "execution_count": 73,
   "id": "f345066a",
   "metadata": {},
   "outputs": [
    {
     "name": "stdout",
     "output_type": "stream",
     "text": [
      "Train Accuracy: 66.07%\n",
      "Test Accuracy: 64.94%\n"
     ]
    }
   ],
   "source": [
    "#Fitting a KNN model to the remain dataset. Evaluate the model's accuracy.\n",
    "\n",
    "KNN_model = KNeighborsClassifier(n_neighbors=53) # Define the model\n",
    "KNN_model.fit(X_remain, y_remain) # Fit to data\n",
    "\n",
    "print(f\"Train Accuracy: {round(KNN_model.score(X_remain, y_remain)*100, 2)}%\")\n",
    "print(f\"Test Accuracy: {round(KNN_model.score(X_test, y_test)*100, 2)}%\")"
   ]
  },
  {
   "cell_type": "markdown",
   "id": "003ae471",
   "metadata": {},
   "source": [
    "2e. What is the issue with splitting the data into train and validation sets after performing vectorization?\n",
    "\n",
    "The biggest issue with splitting data after the processing step is that inadvertantly some information is carried over from the train data into the validation set. This compromises the integrity of the test set and does not mimic testing unknown real data on the model. For this reason datasets are split and then vectorization models are fit to the training set and the test set."
   ]
  },
  {
   "cell_type": "markdown",
   "id": "db29bed1",
   "metadata": {},
   "source": [
    "#### Q3. Employ a Decision Tree classifier on this dataset:\n",
    "\n",
    " - Fit a decision tree model to this data. What is the accuracy score on the test set?\n",
    " - Use the data set (or a subsample) to find an optimal value for the maximum depth of the decision tree. You will need to split your data set into train and validation.\n",
    " - Provide two advantages of decision trees over KNN. Provide two weaknesses of decision trees (classification or regression trees)"
   ]
  },
  {
   "cell_type": "code",
   "execution_count": 60,
   "id": "e775dcad",
   "metadata": {},
   "outputs": [],
   "source": [
    "# Import dataset for Decision Tree models\n",
    "\n",
    "from sklearn.tree import DecisionTreeClassifier"
   ]
  },
  {
   "cell_type": "markdown",
   "id": "d452692d",
   "metadata": {},
   "source": [
    "3a. Fit a decision tree model to this data. What is the accuracy score on the test set?"
   ]
  },
  {
   "cell_type": "code",
   "execution_count": 62,
   "id": "be06396d",
   "metadata": {},
   "outputs": [
    {
     "name": "stdout",
     "output_type": "stream",
     "text": [
      "The TRAIN classification accuracy is:  1.0\n",
      "The TEST classification accuracy is:  0.6981485821420201\n"
     ]
    }
   ],
   "source": [
    "#Fit to the training data\n",
    "DT_model = DecisionTreeClassifier()\n",
    "DT_model.fit(X_remain, y_remain)\n",
    "\n",
    "print(f\"The TRAIN classification accuracy is:  {DT_model.score(X_remain,y_remain)}\")\n",
    "print(f\"The TEST classification accuracy is:  {DT_model.score(X_test,y_test)}\")\n"
   ]
  },
  {
   "cell_type": "markdown",
   "id": "c3bf5968",
   "metadata": {},
   "source": [
    "3b. Use the data set (or a subsample) to find an optimal value for the maximum depth of the decision tree. You will need to split your data set into train and validation."
   ]
  },
  {
   "cell_type": "code",
   "execution_count": 63,
   "id": "d15412b9",
   "metadata": {},
   "outputs": [
    {
     "data": {
      "image/png": "[encoded data removed]",
      "text/plain": [
       "<Figure size 720x504 with 1 Axes>"
      ]
     },
     "metadata": {
      "needs_background": "light"
     },
     "output_type": "display_data"
    }
   ],
   "source": [
    "# We can achieve this using the max-depth parameter\n",
    "\n",
    "depths = list(range(1, int(np.sqrt(len(X_train)))))\n",
    "train_scores = []\n",
    "validation_scores = []\n",
    "\n",
    "for d in depths:    \n",
    "    dt = DecisionTreeClassifier(max_depth = d)\n",
    "    dt.fit(X_train, y_train)\n",
    "    \n",
    "    # Evaluate\n",
    "    train_scores.append(dt.score(X_train, y_train))\n",
    "    validation_scores.append(dt.score(X_validate, y_validate))\n",
    "    \n",
    "plt.figure(figsize=(10, 7))\n",
    "plt.plot(depths, train_scores, c='blue', label='train')\n",
    "plt.plot(depths, validation_scores, c='red', label='validation')\n",
    "plt.xlabel('max_depth')\n",
    "plt.ylabel('accuracy')\n",
    "plt.title(\"Decision tree max_depth tuning\")\n",
    "plt.legend()\n",
    "plt.show()"
   ]
  },
  {
   "cell_type": "markdown",
   "id": "f3ece4ad",
   "metadata": {},
   "source": [
    "We can see that the ideal max-depth is around 6 where the gap between the train and validate sets is least. The accuracy is around 67% for the validate set."
   ]
  },
  {
   "cell_type": "code",
   "execution_count": 72,
   "id": "e8a32f89",
   "metadata": {},
   "outputs": [
    {
     "name": "stdout",
     "output_type": "stream",
     "text": [
      "The TRAIN classification accuracy is:  0.7666822941084545\n",
      "The TEST classification accuracy is:  0.7520506210452308\n"
     ]
    }
   ],
   "source": [
    "#Fit to the training data\n",
    "DT_model = DecisionTreeClassifier(max_depth = 6)\n",
    "DT_model.fit(X_remain, y_remain)\n",
    "\n",
    "print(f\"The TRAIN classification accuracy is:  {DT_model.score(X_remain,y_remain)}\")\n",
    "print(f\"The TEST classification accuracy is:  {DT_model.score(X_test,y_test)}\")"
   ]
  },
  {
   "cell_type": "markdown",
   "id": "8e806d41",
   "metadata": {},
   "source": [
    "When we set the max_depth at 6, we address the overfitting in the generic model (where train accuracy was 1) and we increase the accuracy of the test model from ~70% to ~75%."
   ]
  },
  {
   "cell_type": "markdown",
   "id": "18eb841c",
   "metadata": {},
   "source": [
    "3c. Provide two advantages of decision trees over KNN. Provide two weaknesses of decision trees (classification or regression trees)\n",
    "\n",
    "*Advantages:*\n",
    "\n",
    " - Scaling is not required for decision trees unlike KNN models. This is because decision trees make their splits one feature at a time and are not impacted by unit scaling.\n",
    " - They are simple and easy to understand. Decision trees can ignore features and thus not have to understand which features are important and which ones are not.\n",
    " \n",
    "*Weaknesses:*\n",
    " \n",
    " - Decision trees cannot differentiate important data features from unimportant ones.\n",
    " - A small change in the data can create a large change in the decision tree structure. This could result in poor predictions."
   ]
  },
  {
   "cell_type": "markdown",
   "id": "292b1332",
   "metadata": {},
   "source": [
    "#### Q4. What is the purpose of the validation set, i.e., how is it different than the test set?\n",
    "\n",
    "When fitting to data our models have several parameters that must be fixed before fitting begins. These values are called *hyperparameters*. \n",
    "\n",
    "However, we need to test how do we decide what values ensure good performance. For this:\n",
    "* We can't use the training set because we naturally overfit to it. \n",
    "* We shouldn't use the test set because it's supposed to be a simulation of unseen data \n",
    "\n",
    "Instead, when adjusting these parameters we can use a *validation set*. The validation set is a further divide of the training data. \n",
    "\n",
    "1. **Train**: We fit the model to this data, this adjusts the underlying parameters in a model. E.g. max_depth above. \n",
    "2. **Validation**: Used to tune a model's hyperparameters, such as the max_depth value. This serves as a somewhat unbiased estimate of the model's performance. \n",
    "3. **Test**: Used to provide a totally unbiased estimate of the model's performance. This is data the model has never seen; it should serve as a good predictor for the model's performance once deployed and making prediction on new data."
   ]
  },
  {
   "cell_type": "markdown",
   "id": "6b1e7f0e",
   "metadata": {},
   "source": [
    "#### Q5 Re-run a decision tree or logistic regression on the data again:\n",
    "\n",
    " - Perform a 5-fold cross validation to optimize the hyperparameters of your model.\n",
    " - What does your confusion matrix look like for your best model on the test set?"
   ]
  },
  {
   "cell_type": "code",
   "execution_count": 92,
   "id": "0afa740d",
   "metadata": {},
   "outputs": [],
   "source": [
    "# Import required packages\n",
    "\n",
    "from sklearn.metrics import confusion_matrix"
   ]
  },
  {
   "cell_type": "markdown",
   "id": "3000b064",
   "metadata": {},
   "source": [
    "5a. Perform a 5-fold cross validation to optimize the hyperparameters of your model."
   ]
  },
  {
   "cell_type": "code",
   "execution_count": 74,
   "id": "07a66d6c",
   "metadata": {},
   "outputs": [],
   "source": [
    "from sklearn.model_selection import cross_val_score"
   ]
  },
  {
   "cell_type": "code",
   "execution_count": 84,
   "id": "a887e806",
   "metadata": {},
   "outputs": [],
   "source": [
    "# Instanitate model\n",
    "my_logreg2 = LogisticRegression(random_state=1)\n",
    "\n",
    "# Fit model on 5 folds.\n",
    "# The variable \"scores\" will hold 5 accuracy scores, \n",
    "# each from a different train and validation split\n",
    "scores = cross_val_score(my_logreg2, X_remain, y_remain, cv = 5)"
   ]
  },
  {
   "cell_type": "code",
   "execution_count": 85,
   "id": "ce31d8d0",
   "metadata": {},
   "outputs": [
    {
     "name": "stdout",
     "output_type": "stream",
     "text": [
      "Fold 1: 0.72734375\n",
      "Fold 2: 0.72421875\n",
      "Fold 3: 0.72578125\n",
      "Fold 4: 0.7233294255568582\n",
      "Fold 5: 0.7170769831965611\n"
     ]
    }
   ],
   "source": [
    "# Every score corresponds to a fold\n",
    "for i in range(len(scores)) :\n",
    "    print(f\"Fold {i+1}: {scores[i]}\")"
   ]
  },
  {
   "cell_type": "code",
   "execution_count": 86,
   "id": "7b6f2895",
   "metadata": {},
   "outputs": [
    {
     "name": "stdout",
     "output_type": "stream",
     "text": [
      "Average Score:0.723550031750684\n"
     ]
    }
   ],
   "source": [
    "print(f\"Average Score:{np.mean(scores)}\")"
   ]
  },
  {
   "cell_type": "code",
   "execution_count": 80,
   "id": "a4187992",
   "metadata": {},
   "outputs": [
    {
     "data": {
      "image/png": "[encoded data removed]",
      "text/plain": [
       "<Figure size 432x288 with 1 Axes>"
      ]
     },
     "metadata": {
      "needs_background": "light"
     },
     "output_type": "display_data"
    }
   ],
   "source": [
    "#Store the results\n",
    "cross_validation_scores = []\n",
    "\n",
    "C_range = np.array([.00000001,.0000001,.000001,.00001,.0001,.001,.1,\\\n",
    "                1,10,100,1000,10000,100000,1000000,10000000,100000000,1000000000])\n",
    "\n",
    "#Do some cross validation\n",
    "for c in C_range:\n",
    "    LR_model = LogisticRegression(C=c,random_state=1)\n",
    "    \n",
    "    # the cross validation score (mean of scores from all folds)\n",
    "    cv_score = np.mean(cross_val_score(LR_model, X_remain, y_remain, cv = 5))\n",
    "    \n",
    "    cross_validation_scores.append(cv_score)\n",
    "\n",
    "plt.figure()\n",
    "plt.plot(C_range, cross_validation_scores,label=\"Cross Validation Score\",marker='.')\n",
    "plt.legend()\n",
    "plt.xscale(\"log\")\n",
    "plt.xlabel('Regularization Parameter: C')\n",
    "plt.ylabel('Cross Validation Score')\n",
    "plt.grid()\n",
    "plt.show();"
   ]
  },
  {
   "cell_type": "markdown",
   "id": "140ed13e",
   "metadata": {},
   "source": [
    "In this case the hyperparameter with the best cross-validation score that we should consider is 10<sup>-3</sup>."
   ]
  },
  {
   "cell_type": "markdown",
   "id": "333e540d",
   "metadata": {},
   "source": [
    "5b. What does your confusion matrix look like for your best model on the test set?"
   ]
  },
  {
   "cell_type": "code",
   "execution_count": 89,
   "id": "15f06c92",
   "metadata": {},
   "outputs": [
    {
     "data": {
      "text/html": [
       "<div>\n",
       "<style scoped>\n",
       "    .dataframe tbody tr th:only-of-type {\n",
       "        vertical-align: middle;\n",
       "    }\n",
       "\n",
       "    .dataframe tbody tr th {\n",
       "        vertical-align: top;\n",
       "    }\n",
       "\n",
       "    .dataframe thead th {\n",
       "        text-align: right;\n",
       "    }\n",
       "</style>\n",
       "<table border=\"1\" class=\"dataframe\">\n",
       "  <thead>\n",
       "    <tr style=\"text-align: right;\">\n",
       "      <th></th>\n",
       "      <th>predicted class</th>\n",
       "    </tr>\n",
       "  </thead>\n",
       "  <tbody>\n",
       "    <tr>\n",
       "      <th>0</th>\n",
       "      <td>1</td>\n",
       "    </tr>\n",
       "    <tr>\n",
       "      <th>1</th>\n",
       "      <td>1</td>\n",
       "    </tr>\n",
       "    <tr>\n",
       "      <th>2</th>\n",
       "      <td>1</td>\n",
       "    </tr>\n",
       "    <tr>\n",
       "      <th>3</th>\n",
       "      <td>1</td>\n",
       "    </tr>\n",
       "    <tr>\n",
       "      <th>4</th>\n",
       "      <td>0</td>\n",
       "    </tr>\n",
       "    <tr>\n",
       "      <th>...</th>\n",
       "      <td>...</td>\n",
       "    </tr>\n",
       "    <tr>\n",
       "      <th>4262</th>\n",
       "      <td>0</td>\n",
       "    </tr>\n",
       "    <tr>\n",
       "      <th>4263</th>\n",
       "      <td>0</td>\n",
       "    </tr>\n",
       "    <tr>\n",
       "      <th>4264</th>\n",
       "      <td>0</td>\n",
       "    </tr>\n",
       "    <tr>\n",
       "      <th>4265</th>\n",
       "      <td>1</td>\n",
       "    </tr>\n",
       "    <tr>\n",
       "      <th>4266</th>\n",
       "      <td>1</td>\n",
       "    </tr>\n",
       "  </tbody>\n",
       "</table>\n",
       "<p>4267 rows × 1 columns</p>\n",
       "</div>"
      ],
      "text/plain": [
       "      predicted class\n",
       "0                   1\n",
       "1                   1\n",
       "2                   1\n",
       "3                   1\n",
       "4                   0\n",
       "...               ...\n",
       "4262                0\n",
       "4263                0\n",
       "4264                0\n",
       "4265                1\n",
       "4266                1\n",
       "\n",
       "[4267 rows x 1 columns]"
      ]
     },
     "execution_count": 89,
     "metadata": {},
     "output_type": "execute_result"
    }
   ],
   "source": [
    "my_logreg2.fit(X_remain, y_remain)\n",
    "# Classify the test set\n",
    "y_pred = my_logreg2.predict(X_test)\n",
    "\n",
    "# Put into a dataframe and check\n",
    "class_df = pd.DataFrame(y_pred, columns=['predicted class'])\n",
    "class_df"
   ]
  },
  {
   "cell_type": "code",
   "execution_count": 90,
   "id": "d05befa3",
   "metadata": {},
   "outputs": [
    {
     "data": {
      "text/plain": [
       "1    0.578392\n",
       "0    0.421608\n",
       "Name: predicted class, dtype: float64"
      ]
     },
     "execution_count": 90,
     "metadata": {},
     "output_type": "execute_result"
    }
   ],
   "source": [
    "# Checking the distribution of predicted output classes\n",
    "class_df['predicted class'].value_counts(normalize=True)"
   ]
  },
  {
   "cell_type": "code",
   "execution_count": 93,
   "id": "319721e2",
   "metadata": {},
   "outputs": [
    {
     "data": {
      "text/html": [
       "<div>\n",
       "<style scoped>\n",
       "    .dataframe tbody tr th:only-of-type {\n",
       "        vertical-align: middle;\n",
       "    }\n",
       "\n",
       "    .dataframe tbody tr th {\n",
       "        vertical-align: top;\n",
       "    }\n",
       "\n",
       "    .dataframe thead th {\n",
       "        text-align: right;\n",
       "    }\n",
       "</style>\n",
       "<table border=\"1\" class=\"dataframe\">\n",
       "  <thead>\n",
       "    <tr style=\"text-align: right;\">\n",
       "      <th></th>\n",
       "      <th>Predicted 0</th>\n",
       "      <th>Predicted 1</th>\n",
       "      <th>Sum of Actuals</th>\n",
       "    </tr>\n",
       "  </thead>\n",
       "  <tbody>\n",
       "    <tr>\n",
       "      <th>Actual 0</th>\n",
       "      <td>1234</td>\n",
       "      <td>575</td>\n",
       "      <td>1809</td>\n",
       "    </tr>\n",
       "    <tr>\n",
       "      <th>Actual 1</th>\n",
       "      <td>565</td>\n",
       "      <td>1893</td>\n",
       "      <td>2458</td>\n",
       "    </tr>\n",
       "    <tr>\n",
       "      <th>Sum of Predictions</th>\n",
       "      <td>1799</td>\n",
       "      <td>2468</td>\n",
       "      <td>4267</td>\n",
       "    </tr>\n",
       "  </tbody>\n",
       "</table>\n",
       "</div>"
      ],
      "text/plain": [
       "                    Predicted 0  Predicted 1  Sum of Actuals\n",
       "Actual 0                   1234          575            1809\n",
       "Actual 1                    565         1893            2458\n",
       "Sum of Predictions         1799         2468            4267"
      ]
     },
     "execution_count": 93,
     "metadata": {},
     "output_type": "execute_result"
    }
   ],
   "source": [
    "# Build the confusion matrix as a dataframe\n",
    "confusion_df = pd.DataFrame(confusion_matrix(y_test, y_pred), columns=['Predicted 0', 'Predicted 1'])\n",
    "\n",
    "# Add a column that sums up the actuals\n",
    "confusion_df['Sum of Actuals'] = confusion_df.sum(axis=1)\n",
    "\n",
    "# Add a row that sums up the predictions\n",
    "confusion_df = confusion_df.append(pd.Series(confusion_df.sum(axis=0)), ignore_index=True)\n",
    "\n",
    "# Fix the indices\n",
    "confusion_df.index=['Actual 0', 'Actual 1', 'Sum of Predictions'] \n",
    "\n",
    "# Check\n",
    "confusion_df"
   ]
  },
  {
   "cell_type": "markdown",
   "id": "f2ef20e1",
   "metadata": {},
   "source": [
    "We can see rightaway from this confusion matrix that the accuracy and precision of our model are not very high. There are still 565 - 576 false negatives and false positives respectively. We can calculate the percentage of accuracy and precision below."
   ]
  },
  {
   "cell_type": "code",
   "execution_count": 94,
   "id": "b2dd693d",
   "metadata": {},
   "outputs": [],
   "source": [
    "# Let us calculate accuracy and precision\n",
    "TN = confusion_df['Predicted 0'].loc['Actual 0'] # True negative\n",
    "FN = confusion_df['Predicted 0'].loc['Actual 1'] # False negative\n",
    "TP = confusion_df['Predicted 1'].loc['Actual 1'] # True positive\n",
    "FP = confusion_df['Predicted 1'].loc['Actual 0'] # False positive\n",
    "\n",
    "All = confusion_df['Sum of Actuals'].loc['Sum of Predictions']"
   ]
  },
  {
   "cell_type": "code",
   "execution_count": 97,
   "id": "a2d97a77",
   "metadata": {},
   "outputs": [
    {
     "data": {
      "text/plain": [
       "73.28333723927818"
      ]
     },
     "execution_count": 97,
     "metadata": {},
     "output_type": "execute_result"
    }
   ],
   "source": [
    "# accuracy\n",
    "(TN + TP)/All*100"
   ]
  },
  {
   "cell_type": "code",
   "execution_count": 98,
   "id": "b9b6f81b",
   "metadata": {},
   "outputs": [
    {
     "data": {
      "text/plain": [
       "76.70178282009724"
      ]
     },
     "execution_count": 98,
     "metadata": {},
     "output_type": "execute_result"
    }
   ],
   "source": [
    "# Precision\n",
    "TP/(TP+FP)*100"
   ]
  },
  {
   "cell_type": "markdown",
   "id": "e4e9c589",
   "metadata": {},
   "source": [
    "Our accuracy or the ratio of true predictions or all predictions is 73%. Our precision, which is a ratio of our true positives to all positive predictions is about 77%."
   ]
  }
 ],
 "metadata": {
  "kernelspec": {
   "display_name": "Python 3 (ipykernel)",
   "language": "python",
   "name": "python3"
  },
  "language_info": {
   "codemirror_mode": {
    "name": "ipython",
    "version": 3
   },
   "file_extension": ".py",
   "mimetype": "text/x-python",
   "name": "python",
   "nbconvert_exporter": "python",
   "pygments_lexer": "ipython3",
   "version": "3.9.7"
  }
 },
 "nbformat": 4,
 "nbformat_minor": 5
}
